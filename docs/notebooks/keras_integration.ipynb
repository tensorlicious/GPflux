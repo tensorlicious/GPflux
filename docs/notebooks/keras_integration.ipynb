{
 "cells": [
  {
   "cell_type": "markdown",
   "id": "20a7f830",
   "metadata": {
    "cell_marker": "\"\"\"",
    "lines_to_next_cell": 0
   },
   "source": [
    "# Keras integration\n",
    "\n",
    "TODO: Some explanation..."
   ]
  },
  {
   "cell_type": "code",
   "execution_count": 1,
   "id": "6c3494a5",
   "metadata": {
    "execution": {
     "iopub.execute_input": "2021-11-05T16:52:36.323388Z",
     "iopub.status.busy": "2021-11-05T16:52:36.322405Z",
     "iopub.status.idle": "2021-11-05T16:52:38.306167Z",
     "shell.execute_reply": "2021-11-05T16:52:38.304677Z"
    }
   },
   "outputs": [
    {
     "name": "stderr",
     "output_type": "stream",
     "text": [
      "2021-11-05 16:52:36.532760: W tensorflow/stream_executor/platform/default/dso_loader.cc:64] Could not load dynamic library 'libcudart.so.11.0'; dlerror: libcudart.so.11.0: cannot open shared object file: No such file or directory; LD_LIBRARY_PATH: /opt/hostedtoolcache/Python/3.7.12/x64/lib\n",
      "2021-11-05 16:52:36.532794: I tensorflow/stream_executor/cuda/cudart_stub.cc:29] Ignore above cudart dlerror if you do not have a GPU set up on your machine.\n"
     ]
    }
   ],
   "source": [
    "import numpy as np\n",
    "import tensorflow as tf\n",
    "import gpflow\n",
    "import gpflux\n",
    "from gpflow.ci_utils import ci_niter\n",
    "\n",
    "import matplotlib.pyplot as plt"
   ]
  },
  {
   "cell_type": "code",
   "execution_count": 2,
   "id": "0e10bcf9",
   "metadata": {
    "execution": {
     "iopub.execute_input": "2021-11-05T16:52:38.310741Z",
     "iopub.status.busy": "2021-11-05T16:52:38.309216Z",
     "iopub.status.idle": "2021-11-05T16:52:38.312888Z",
     "shell.execute_reply": "2021-11-05T16:52:38.312426Z"
    }
   },
   "outputs": [],
   "source": [
    "tf.keras.backend.set_floatx(\"float64\")"
   ]
  },
  {
   "cell_type": "code",
   "execution_count": 3,
   "id": "c6c5b28f",
   "metadata": {
    "execution": {
     "iopub.execute_input": "2021-11-05T16:52:38.318427Z",
     "iopub.status.busy": "2021-11-05T16:52:38.317183Z",
     "iopub.status.idle": "2021-11-05T16:52:38.319029Z",
     "shell.execute_reply": "2021-11-05T16:52:38.319446Z"
    }
   },
   "outputs": [],
   "source": [
    "%matplotlib inline"
   ]
  },
  {
   "cell_type": "code",
   "execution_count": 4,
   "id": "19d49647",
   "metadata": {
    "execution": {
     "iopub.execute_input": "2021-11-05T16:52:38.323407Z",
     "iopub.status.busy": "2021-11-05T16:52:38.322923Z",
     "iopub.status.idle": "2021-11-05T16:52:38.326969Z",
     "shell.execute_reply": "2021-11-05T16:52:38.327434Z"
    }
   },
   "outputs": [],
   "source": [
    "d = np.load(\"../../tests/snelson1d.npz\")\n",
    "X, Y = d[\"X\"], d[\"Y\"]\n",
    "num_data, input_dim = X.shape\n",
    "_, output_dim = Y.shape"
   ]
  },
  {
   "cell_type": "code",
   "execution_count": 5,
   "id": "1f0b4150",
   "metadata": {
    "execution": {
     "iopub.execute_input": "2021-11-05T16:52:38.344049Z",
     "iopub.status.busy": "2021-11-05T16:52:38.343524Z",
     "iopub.status.idle": "2021-11-05T16:52:38.457694Z",
     "shell.execute_reply": "2021-11-05T16:52:38.458121Z"
    }
   },
   "outputs": [
    {
     "data": {
      "image/png": "[encoded data removed]",
      "text/plain": [
       "<Figure size 432x288 with 1 Axes>"
      ]
     },
     "metadata": {
      "needs_background": "light"
     },
     "output_type": "display_data"
    }
   ],
   "source": [
    "plt.figure()\n",
    "plt.plot(X, Y, \".\")\n",
    "plt.show()"
   ]
  },
  {
   "cell_type": "code",
   "execution_count": 6,
   "id": "befcf86d",
   "metadata": {
    "execution": {
     "iopub.execute_input": "2021-11-05T16:52:38.461061Z",
     "iopub.status.busy": "2021-11-05T16:52:38.460496Z",
     "iopub.status.idle": "2021-11-05T16:52:38.465415Z",
     "shell.execute_reply": "2021-11-05T16:52:38.465845Z"
    }
   },
   "outputs": [],
   "source": [
    "def create_layers():\n",
    "    num_inducing = 13\n",
    "    hidden_dim = 1\n",
    "    Z = np.linspace(X.min() - 0.1, X.max() + 0.1, num_inducing).reshape(-1, 1)\n",
    "\n",
    "    layer1 = gpflux.helpers.construct_gp_layer(\n",
    "        num_data, num_inducing, input_dim, hidden_dim, z_init=Z.copy()\n",
    "    )\n",
    "    layer1.mean_function = gpflow.mean_functions.Identity()  # TODO: pass layer_type instead\n",
    "    layer1.q_sqrt.assign(layer1.q_sqrt * 0.01)\n",
    "\n",
    "    layer2 = gpflux.helpers.construct_gp_layer(\n",
    "        num_data, num_inducing, hidden_dim, output_dim, z_init=Z.copy()\n",
    "    )\n",
    "\n",
    "    likelihood_layer = gpflux.layers.LikelihoodLayer(gpflow.likelihoods.Gaussian(0.01))\n",
    "\n",
    "    return layer1, layer2, likelihood_layer"
   ]
  },
  {
   "cell_type": "code",
   "execution_count": 7,
   "id": "6940b5e3",
   "metadata": {
    "execution": {
     "iopub.execute_input": "2021-11-05T16:52:38.468575Z",
     "iopub.status.busy": "2021-11-05T16:52:38.468022Z",
     "iopub.status.idle": "2021-11-05T16:52:38.471512Z",
     "shell.execute_reply": "2021-11-05T16:52:38.472012Z"
    }
   },
   "outputs": [],
   "source": [
    "def create_model(model_class):\n",
    "    \"\"\"\n",
    "    We pass in `model_class` to make it easy to use\n",
    "    `gpflux.optimization.NatGradModel`, which is required for combining\n",
    "    GPflow's `NaturalGradient` optimizer with Keras. `model_class` needs to be\n",
    "    a constructor that has the same semantics as `tf.keras.Model.__init__`.\n",
    "    \"\"\"\n",
    "    layer1, layer2, likelihood_layer = create_layers()\n",
    "    dgp = gpflux.models.DeepGP([layer1, layer2], likelihood_layer, default_model_class=model_class)\n",
    "    return dgp"
   ]
  },
  {
   "cell_type": "code",
   "execution_count": 8,
   "id": "8b88a588",
   "metadata": {
    "execution": {
     "iopub.execute_input": "2021-11-05T16:52:38.475007Z",
     "iopub.status.busy": "2021-11-05T16:52:38.473987Z",
     "iopub.status.idle": "2021-11-05T16:52:38.478029Z",
     "shell.execute_reply": "2021-11-05T16:52:38.478887Z"
    }
   },
   "outputs": [],
   "source": [
    "batch_size = 2\n",
    "num_epochs = ci_niter(200)"
   ]
  },
  {
   "cell_type": "code",
   "execution_count": 9,
   "id": "8708009d",
   "metadata": {
    "execution": {
     "iopub.execute_input": "2021-11-05T16:52:38.487830Z",
     "iopub.status.busy": "2021-11-05T16:52:38.481371Z",
     "iopub.status.idle": "2021-11-05T16:52:43.866943Z",
     "shell.execute_reply": "2021-11-05T16:52:43.866475Z"
    }
   },
   "outputs": [
    {
     "name": "stderr",
     "output_type": "stream",
     "text": [
      "2021-11-05 16:52:38.484174: W tensorflow/stream_executor/platform/default/dso_loader.cc:64] Could not load dynamic library 'libcuda.so.1'; dlerror: libcuda.so.1: cannot open shared object file: No such file or directory; LD_LIBRARY_PATH: /opt/hostedtoolcache/Python/3.7.12/x64/lib\n",
      "2021-11-05 16:52:38.484208: W tensorflow/stream_executor/cuda/cuda_driver.cc:326] failed call to cuInit: UNKNOWN ERROR (303)\n",
      "2021-11-05 16:52:38.484231: I tensorflow/stream_executor/cuda/cuda_diagnostics.cc:156] kernel driver does not appear to be running on this host (fv-az178-704): /proc/driver/nvidia/version does not exist\n",
      "2021-11-05 16:52:38.484513: I tensorflow/core/platform/cpu_feature_guard.cc:142] This TensorFlow binary is optimized with oneAPI Deep Neural Network Library (oneDNN) to use the following CPU instructions in performance-critical operations:  AVX2 AVX512F FMA\n",
      "To enable them in other operations, rebuild TensorFlow with the appropriate compiler flags.\n",
      "/opt/hostedtoolcache/Python/3.7.12/x64/lib/python3.7/site-packages/ipykernel_launcher.py:16: DeprecationWarning: Call to deprecated class TrackableLayer. (GPflux's `TrackableLayer` was prior to TF2.5 used to collect GPflow variables in subclassed layers. As of TF 2.5, `tf.Module` supports this natively and there is no need for `TrackableLayer` anymore. It will be removed in GPflux version `1.0.0`.)\n",
      "  app.launch_new_instance()\n"
     ]
    },
    {
     "name": "stdout",
     "output_type": "stream",
     "text": [
      "WARNING:tensorflow:From /opt/hostedtoolcache/Python/3.7.12/x64/lib/python3.7/site-packages/tensorflow_probability/python/distributions/distribution.py:346: calling MultivariateNormalDiag.__init__ (from tensorflow_probability.python.distributions.mvn_diag) with scale_identity_multiplier is deprecated and will be removed after 2020-01-01.\n",
      "Instructions for updating:\n",
      "`scale_identity_multiplier` is deprecated; please combine it into `scale_diag` directly instead.\n"
     ]
    },
    {
     "name": "stderr",
     "output_type": "stream",
     "text": [
      "2021-11-05 16:52:38.882155: W tensorflow/python/util/util.cc:348] Sets are not currently considered sequences, but this may change in the future, so consider avoiding using them.\n"
     ]
    },
    {
     "name": "stderr",
     "output_type": "stream",
     "text": [
      "2021-11-05 16:52:39.739584: I tensorflow/compiler/mlir/mlir_graph_optimization_pass.cc:176] None of the MLIR Optimization Passes are enabled (registered 2)\n",
      "2021-11-05 16:52:39.739983: I tensorflow/core/platform/profile_utils/cpu_utils.cc:114] CPU Frequency: 2095195000 Hz\n"
     ]
    },
    {
     "name": "stdout",
     "output_type": "stream",
     "text": [
      "Epoch 1/2\n"
     ]
    },
    {
     "name": "stdout",
     "output_type": "stream",
     "text": [
      "\r",
      "  1/100 [..............................] - ETA: 6:16 - loss: 54.0831 - gp_layer_prior_kl: 0.2668 - gp_layer_1_prior_kl: 0.0000e+00"
     ]
    },
    {
     "name": "stdout",
     "output_type": "stream",
     "text": [
      "\b\b\b\b\b\b\b\b\b\b\b\b\b\b\b\b\b\b\b\b\b\b\b\b\b\b\b\b\b\b\b\b\b\b\b\b\b\b\b\b\b\b\b\b\b\b\b\b\b\b\b\b\b\b\b\b\b\b\b\b\b\b\b\b\b\b\b\b\b\b\b\b\b\b\b\b\b\b\b\b\b\b\b\b\b\b\b\b\b\b\b\b\b\b\b\b\b\b\b\b\b\b\b\b\b\b\b\b\b\b\b\b\b\b\b\b\b\b\b\b\b\b\b\b\b\b\b\b\b\b\r",
      " 35/100 [=========>....................] - ETA: 0s - loss: 15.4889 - gp_layer_prior_kl: 0.0948 - gp_layer_1_prior_kl: 0.0723      "
     ]
    },
    {
     "name": "stdout",
     "output_type": "stream",
     "text": [
      "\b\b\b\b\b\b\b\b\b\b\b\b\b\b\b\b\b\b\b\b\b\b\b\b\b\b\b\b\b\b\b\b\b\b\b\b\b\b\b\b\b\b\b\b\b\b\b\b\b\b\b\b\b\b\b\b\b\b\b\b\b\b\b\b\b\b\b\b\b\b\b\b\b\b\b\b\b\b\b\b\b\b\b\b\b\b\b\b\b\b\b\b\b\b\b\b\b\b\b\b\b\b\b\b\b\b\b\b\b\b\b\b\b\b\b\b\b\b\b\b\b\b\b\b\r",
      " 69/100 [===================>..........] - ETA: 0s - loss: 9.0800 - gp_layer_prior_kl: 0.0949 - gp_layer_1_prior_kl: 0.0973 "
     ]
    },
    {
     "name": "stdout",
     "output_type": "stream",
     "text": [
      "\b\b\b\b\b\b\b\b\b\b\b\b\b\b\b\b\b\b\b\b\b\b\b\b\b\b\b\b\b\b\b\b\b\b\b\b\b\b\b\b\b\b\b\b\b\b\b\b\b\b\b\b\b\b\b\b\b\b\b\b\b\b\b\b\b\b\b\b\b\b\b\b\b\b\b\b\b\b\b\b\b\b\b\b\b\b\b\b\b\b\b\b\b\b\b\b\b\b\b\b\b\b\b\b\b\b\b\b\b\b\b\b\b\b\b\b\b\b\b\b\b\b\b\r",
      "100/100 [==============================] - 4s 1ms/step - loss: 6.7244 - gp_layer_prior_kl: 0.0883 - gp_layer_1_prior_kl: 0.0981\n"
     ]
    },
    {
     "name": "stdout",
     "output_type": "stream",
     "text": [
      "Epoch 2/2\n",
      "\r",
      "  1/100 [..............................] - ETA: 0s - loss: 0.7274 - gp_layer_prior_kl: 0.0670 - gp_layer_1_prior_kl: 0.0950"
     ]
    },
    {
     "name": "stdout",
     "output_type": "stream",
     "text": [
      "\b\b\b\b\b\b\b\b\b\b\b\b\b\b\b\b\b\b\b\b\b\b\b\b\b\b\b\b\b\b\b\b\b\b\b\b\b\b\b\b\b\b\b\b\b\b\b\b\b\b\b\b\b\b\b\b\b\b\b\b\b\b\b\b\b\b\b\b\b\b\b\b\b\b\b\b\b\b\b\b\b\b\b\b\b\b\b\b\b\b\b\b\b\b\b\b\b\b\b\b\b\b\b\b\b\b\b\b\b\b\b\b\b\b\b\b\b\b\b\b\b\b\b\r",
      " 35/100 [=========>....................] - ETA: 0s - loss: 0.9988 - gp_layer_prior_kl: 0.0733 - gp_layer_1_prior_kl: 0.0921"
     ]
    },
    {
     "name": "stdout",
     "output_type": "stream",
     "text": [
      "\b\b\b\b\b\b\b\b\b\b\b\b\b\b\b\b\b\b\b\b\b\b\b\b\b\b\b\b\b\b\b\b\b\b\b\b\b\b\b\b\b\b\b\b\b\b\b\b\b\b\b\b\b\b\b\b\b\b\b\b\b\b\b\b\b\b\b\b\b\b\b\b\b\b\b\b\b\b\b\b\b\b\b\b\b\b\b\b\b\b\b\b\b\b\b\b\b\b\b\b\b\b\b\b\b\b\b\b\b\b\b\b\b\b\b\b\b\b\b\b\b\b\b\r",
      " 69/100 [===================>..........] - ETA: 0s - loss: 0.9868 - gp_layer_prior_kl: 0.0783 - gp_layer_1_prior_kl: 0.0901"
     ]
    },
    {
     "name": "stdout",
     "output_type": "stream",
     "text": [
      "\b\b\b\b\b\b\b\b\b\b\b\b\b\b\b\b\b\b\b\b\b\b\b\b\b\b\b\b\b\b\b\b\b\b\b\b\b\b\b\b\b\b\b\b\b\b\b\b\b\b\b\b\b\b\b\b\b\b\b\b\b\b\b\b\b\b\b\b\b\b\b\b\b\b\b\b\b\b\b\b\b\b\b\b\b\b\b\b\b\b\b\b\b\b\b\b\b\b\b\b\b\b\b\b\b\b\b\b\b\b\b\b\b\b\b\b\b\b\b\b\b\b\b\r",
      "100/100 [==============================] - 0s 2ms/step - loss: 1.0358 - gp_layer_prior_kl: 0.0794 - gp_layer_1_prior_kl: 0.0879\n"
     ]
    }
   ],
   "source": [
    "dgp = create_model(tf.keras.Model)\n",
    "\n",
    "callbacks = [\n",
    "    tf.keras.callbacks.ReduceLROnPlateau(\n",
    "        monitor=\"loss\",\n",
    "        patience=5,\n",
    "        factor=0.95,\n",
    "        verbose=1,\n",
    "        min_lr=1e-6,\n",
    "    )\n",
    "]\n",
    "\n",
    "dgp_train = dgp.as_training_model()\n",
    "dgp_train.compile(tf.optimizers.Adam(learning_rate=0.1))\n",
    "\n",
    "history = dgp_train.fit(\n",
    "    {\"inputs\": X, \"targets\": Y}, batch_size=batch_size, epochs=num_epochs, callbacks=callbacks\n",
    ")"
   ]
  },
  {
   "cell_type": "code",
   "execution_count": 10,
   "id": "9872daf1",
   "metadata": {
    "execution": {
     "iopub.execute_input": "2021-11-05T16:52:43.874186Z",
     "iopub.status.busy": "2021-11-05T16:52:43.873055Z",
     "iopub.status.idle": "2021-11-05T16:52:48.611946Z",
     "shell.execute_reply": "2021-11-05T16:52:48.611492Z"
    }
   },
   "outputs": [
    {
     "name": "stderr",
     "output_type": "stream",
     "text": [
      "/opt/hostedtoolcache/Python/3.7.12/x64/lib/python3.7/site-packages/ipykernel_launcher.py:16: DeprecationWarning: Call to deprecated class TrackableLayer. (GPflux's `TrackableLayer` was prior to TF2.5 used to collect GPflow variables in subclassed layers. As of TF 2.5, `tf.Module` supports this natively and there is no need for `TrackableLayer` anymore. It will be removed in GPflux version `1.0.0`.)\n",
      "  app.launch_new_instance()\n"
     ]
    },
    {
     "name": "stdout",
     "output_type": "stream",
     "text": [
      "Epoch 1/2\n"
     ]
    },
    {
     "name": "stdout",
     "output_type": "stream",
     "text": [
      "Executing NatGradModel backwards pass\n"
     ]
    },
    {
     "name": "stdout",
     "output_type": "stream",
     "text": [
      "Executing NatGradModel backwards pass\n"
     ]
    },
    {
     "name": "stdout",
     "output_type": "stream",
     "text": [
      "\r",
      "  1/100 [..............................] - ETA: 6:11 - loss: 120.6492 - gp_layer_2_prior_kl: 0.2668 - gp_layer_3_prior_kl: 0.0000e+00"
     ]
    },
    {
     "name": "stdout",
     "output_type": "stream",
     "text": [
      "\b\b\b\b\b\b\b\b\b\b\b\b\b\b\b\b\b\b\b\b\b\b\b\b\b\b\b\b\b\b\b\b\b\b\b\b\b\b\b\b\b\b\b\b\b\b\b\b\b\b\b\b\b\b\b\b\b\b\b\b\b\b\b\b\b\b\b\b\b\b\b\b\b\b\b\b\b\b\b\b\b\b\b\b\b\b\b\b\b\b\b\b\b\b\b\b\b\b\b\b\b\b\b\b\b\b\b\b\b\b\b\b\b\b\b\b\b\b\b\b\b\b\b\b\b\b\b\b\b\b\b\b\b\r",
      " 30/100 [========>.....................] - ETA: 0s - loss: 13.9253 - gp_layer_2_prior_kl: 0.2666 - gp_layer_3_prior_kl: 0.0227       "
     ]
    },
    {
     "name": "stdout",
     "output_type": "stream",
     "text": [
      "\b\b\b\b\b\b\b\b\b\b\b\b\b\b\b\b\b\b\b\b\b\b\b\b\b\b\b\b\b\b\b\b\b\b\b\b\b\b\b\b\b\b\b\b\b\b\b\b\b\b\b\b\b\b\b\b\b\b\b\b\b\b\b\b\b\b\b\b\b\b\b\b\b\b\b\b\b\b\b\b\b\b\b\b\b\b\b\b\b\b\b\b\b\b\b\b\b\b\b\b\b\b\b\b\b\b\b\b\b\b\b\b\b\b\b\b\b\b\b\b\b\b\b\b\b\b\r",
      " 59/100 [================>.............] - ETA: 0s - loss: 8.1433 - gp_layer_2_prior_kl: 0.2665 - gp_layer_3_prior_kl: 0.0284 "
     ]
    },
    {
     "name": "stdout",
     "output_type": "stream",
     "text": [
      "\b\b\b\b\b\b\b\b\b\b\b\b\b\b\b\b\b\b\b\b\b\b\b\b\b\b\b\b\b\b\b\b\b\b\b\b\b\b\b\b\b\b\b\b\b\b\b\b\b\b\b\b\b\b\b\b\b\b\b\b\b\b\b\b\b\b\b\b\b\b\b\b\b\b\b\b\b\b\b\b\b\b\b\b\b\b\b\b\b\b\b\b\b\b\b\b\b\b\b\b\b\b\b\b\b\b\b\b\b\b\b\b\b\b\b\b\b\b\b\b\b\b\b\b\b\r",
      " 90/100 [==========================>...] - ETA: 0s - loss: 5.9869 - gp_layer_2_prior_kl: 0.2664 - gp_layer_3_prior_kl: 0.0319"
     ]
    },
    {
     "name": "stdout",
     "output_type": "stream",
     "text": [
      "\b\b\b\b\b\b\b\b\b\b\b\b\b\b\b\b\b\b\b\b\b\b\b\b\b\b\b\b\b\b\b\b\b\b\b\b\b\b\b\b\b\b\b\b\b\b\b\b\b\b\b\b\b\b\b\b\b\b\b\b\b\b\b\b\b\b\b\b\b\b\b\b\b\b\b\b\b\b\b\b\b\b\b\b\b\b\b\b\b\b\b\b\b\b\b\b\b\b\b\b\b\b\b\b\b\b\b\b\b\b\b\b\b\b\b\b\b\b\b\b\b\b\b\b\b\r",
      "100/100 [==============================] - 4s 2ms/step - loss: 5.6205 - gp_layer_2_prior_kl: 0.2664 - gp_layer_3_prior_kl: 0.0328\n"
     ]
    },
    {
     "name": "stdout",
     "output_type": "stream",
     "text": [
      "Epoch 2/2\n",
      "\r",
      "  1/100 [..............................] - ETA: 0s - loss: 3.0363 - gp_layer_2_prior_kl: 0.2660 - gp_layer_3_prior_kl: 0.0405"
     ]
    },
    {
     "name": "stdout",
     "output_type": "stream",
     "text": [
      "\b\b\b\b\b\b\b\b\b\b\b\b\b\b\b\b\b\b\b\b\b\b\b\b\b\b\b\b\b\b\b\b\b\b\b\b\b\b\b\b\b\b\b\b\b\b\b\b\b\b\b\b\b\b\b\b\b\b\b\b\b\b\b\b\b\b\b\b\b\b\b\b\b\b\b\b\b\b\b\b\b\b\b\b\b\b\b\b\b\b\b\b\b\b\b\b\b\b\b\b\b\b\b\b\b\b\b\b\b\b\b\b\b\b\b\b\b\b\b\b\b\b\b\b\b\r",
      " 28/100 [=======>......................] - ETA: 0s - loss: 1.2535 - gp_layer_2_prior_kl: 0.2659 - gp_layer_3_prior_kl: 0.0414"
     ]
    },
    {
     "name": "stdout",
     "output_type": "stream",
     "text": [
      "\b\b\b\b\b\b\b\b\b\b\b\b\b\b\b\b\b\b\b\b\b\b\b\b\b\b\b\b\b\b\b\b\b\b\b\b\b\b\b\b\b\b\b\b\b\b\b\b\b\b\b\b\b\b\b\b\b\b\b\b\b\b\b\b\b\b\b\b\b\b\b\b\b\b\b\b\b\b\b\b\b\b\b\b\b\b\b\b\b\b\b\b\b\b\b\b\b\b\b\b\b\b\b\b\b\b\b\b\b\b\b\b\b\b\b\b\b\b\b\b\b\b\b\b\b\r",
      " 56/100 [===============>..............] - ETA: 0s - loss: 1.1891 - gp_layer_2_prior_kl: 0.2658 - gp_layer_3_prior_kl: 0.0427"
     ]
    },
    {
     "name": "stdout",
     "output_type": "stream",
     "text": [
      "\b\b\b\b\b\b\b\b\b\b\b\b\b\b\b\b\b\b\b\b\b\b\b\b\b\b\b\b\b\b\b\b\b\b\b\b\b\b\b\b\b\b\b\b\b\b\b\b\b\b\b\b\b\b\b\b\b\b\b\b\b\b\b\b\b\b\b\b\b\b\b\b\b\b\b\b\b\b\b\b\b\b\b\b\b\b\b\b\b\b\b\b\b\b\b\b\b\b\b\b\b\b\b\b\b\b\b\b\b\b\b\b\b\b\b\b\b\b\b\b\b\b\b\b\b\r",
      " 85/100 [========================>.....] - ETA: 0s - loss: 1.1006 - gp_layer_2_prior_kl: 0.2657 - gp_layer_3_prior_kl: 0.0439"
     ]
    },
    {
     "name": "stdout",
     "output_type": "stream",
     "text": [
      "\b\b\b\b\b\b\b\b\b\b\b\b\b\b\b\b\b\b\b\b\b\b\b\b\b\b\b\b\b\b\b\b\b\b\b\b\b\b\b\b\b\b\b\b\b\b\b\b\b\b\b\b\b\b\b\b\b\b\b\b\b\b\b\b\b\b\b\b\b\b\b\b\b\b\b\b\b\b\b\b\b\b\b\b\b\b\b\b\b\b\b\b\b\b\b\b\b\b\b\b\b\b\b\b\b\b\b\b\b\b\b\b\b\b\b\b\b\b\b\b\b\b\b\b\b\r",
      "100/100 [==============================] - 0s 2ms/step - loss: 1.0953 - gp_layer_2_prior_kl: 0.2656 - gp_layer_3_prior_kl: 0.0444\n"
     ]
    }
   ],
   "source": [
    "dgp_natgrad = create_model(gpflux.optimization.NatGradModel)\n",
    "\n",
    "callbacks = [\n",
    "    tf.keras.callbacks.ReduceLROnPlateau(\n",
    "        monitor=\"loss\",\n",
    "        patience=5,\n",
    "        factor=0.95,\n",
    "        verbose=1,\n",
    "        min_lr=1e-6,\n",
    "    )\n",
    "]\n",
    "\n",
    "dgp_natgrad_train = dgp_natgrad.as_training_model()\n",
    "dgp_natgrad_train.natgrad_layers = (\n",
    "    True  # we want all (here two) GPLayer instances trained by NaturalGradient\n",
    ")\n",
    "# alternatively, we could set `natgrad_layers` explicitly to the GPLayer instances inside the model\n",
    "dgp_natgrad_train.compile(\n",
    "    [\n",
    "        gpflow.optimizers.NaturalGradient(gamma=0.05),\n",
    "        gpflow.optimizers.NaturalGradient(gamma=0.05),\n",
    "        tf.optimizers.Adam(learning_rate=0.1),\n",
    "    ]\n",
    ")\n",
    "\n",
    "history_natgrad = dgp_natgrad_train.fit(\n",
    "    {\"inputs\": X, \"targets\": Y}, batch_size=batch_size, epochs=num_epochs, callbacks=callbacks\n",
    ")"
   ]
  },
  {
   "cell_type": "code",
   "execution_count": 11,
   "id": "3b0aedd9",
   "metadata": {
    "execution": {
     "iopub.execute_input": "2021-11-05T16:52:48.617943Z",
     "iopub.status.busy": "2021-11-05T16:52:48.616096Z",
     "iopub.status.idle": "2021-11-05T16:52:49.211911Z",
     "shell.execute_reply": "2021-11-05T16:52:49.211027Z"
    }
   },
   "outputs": [],
   "source": [
    "dgp_test = dgp.as_prediction_model()\n",
    "res = dgp_test(X)"
   ]
  },
  {
   "cell_type": "code",
   "execution_count": 12,
   "id": "9c2dfd33",
   "metadata": {
    "execution": {
     "iopub.execute_input": "2021-11-05T16:52:49.243295Z",
     "iopub.status.busy": "2021-11-05T16:52:49.235562Z",
     "iopub.status.idle": "2021-11-05T16:52:49.356674Z",
     "shell.execute_reply": "2021-11-05T16:52:49.357491Z"
    }
   },
   "outputs": [
    {
     "data": {
      "image/png": "[encoded data removed]",
      "text/plain": [
       "<Figure size 432x288 with 1 Axes>"
      ]
     },
     "metadata": {
      "needs_background": "light"
     },
     "output_type": "display_data"
    }
   ],
   "source": [
    "plt.plot(X, Y, \"x\")\n",
    "plt.errorbar(X.squeeze(), np.squeeze(res.y_mean), np.sqrt(np.squeeze(res.y_var)), ls=\"\")\n",
    "plt.show()"
   ]
  },
  {
   "cell_type": "code",
   "execution_count": 13,
   "id": "76f051a1",
   "metadata": {
    "execution": {
     "iopub.execute_input": "2021-11-05T16:52:49.364055Z",
     "iopub.status.busy": "2021-11-05T16:52:49.363047Z",
     "iopub.status.idle": "2021-11-05T16:52:49.484608Z",
     "shell.execute_reply": "2021-11-05T16:52:49.485517Z"
    }
   },
   "outputs": [
    {
     "data": {
      "image/png": "[encoded data removed]",
      "text/plain": [
       "<Figure size 432x288 with 1 Axes>"
      ]
     },
     "metadata": {
      "needs_background": "light"
     },
     "output_type": "display_data"
    }
   ],
   "source": [
    "plt.plot(history.history[\"loss\"], label=\"Adam\")\n",
    "plt.plot(history_natgrad.history[\"loss\"], label=\"NatGrad\")\n",
    "plt.show()"
   ]
  }
 ],
 "metadata": {
  "jupytext": {
   "formats": "ipynb,py:percent"
  },
  "kernelspec": {
   "display_name": "Python 3",
   "language": "python",
   "name": "python3"
  },
  "language_info": {
   "codemirror_mode": {
    "name": "ipython",
    "version": 3
   },
   "file_extension": ".py",
   "mimetype": "text/x-python",
   "name": "python",
   "nbconvert_exporter": "python",
   "pygments_lexer": "ipython3",
   "version": "3.7.12"
  }
 },
 "nbformat": 4,
 "nbformat_minor": 5
}
